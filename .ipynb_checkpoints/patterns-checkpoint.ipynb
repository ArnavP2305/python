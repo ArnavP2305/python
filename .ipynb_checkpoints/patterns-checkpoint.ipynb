{
 "cells": [
  {
   "cell_type": "code",
   "execution_count": 1,
   "id": "bab27965",
   "metadata": {},
   "outputs": [
    {
     "name": "stdout",
     "output_type": "stream",
     "text": [
      "enter number of rows:5\n",
      "* \n",
      "\n",
      "* * \n",
      "\n",
      "* * * \n",
      "\n",
      "* * * * \n",
      "\n",
      "* * * * * \n",
      "\n"
     ]
    }
   ],
   "source": [
    "#increasing triangle\n",
    "n = int(input(\"enter number of rows:\"))\n",
    "for i in range(n):\n",
    "    for j in range(i+1):\n",
    "        print(\"*\",end = \" \")\n",
    "        \n",
    "    print(\"\\n\")"
   ]
  },
  {
   "cell_type": "code",
   "execution_count": 2,
   "id": "045b56ad",
   "metadata": {},
   "outputs": [
    {
     "name": "stdout",
     "output_type": "stream",
     "text": [
      "enter number of rows:5\n",
      "* * * * * \n",
      "\n",
      "* * * * \n",
      "\n",
      "* * * \n",
      "\n",
      "* * \n",
      "\n",
      "* \n",
      "\n"
     ]
    }
   ],
   "source": [
    "#decreasing triangle\n",
    "n = int(input(\"enter number of rows:\"))\n",
    "for i in range(n):\n",
    "    for j in range(i,n):\n",
    "        print(\"*\",end = \" \")\n",
    "        \n",
    "    print(\"\\n\")"
   ]
  },
  {
   "cell_type": "code",
   "execution_count": 3,
   "id": "1365df89",
   "metadata": {},
   "outputs": [
    {
     "name": "stdout",
     "output_type": "stream",
     "text": [
      "enter number of rows:5\n",
      "          * \n",
      "\n",
      "        * * \n",
      "\n",
      "      * * * \n",
      "\n",
      "    * * * * \n",
      "\n",
      "  * * * * * \n",
      "\n"
     ]
    }
   ],
   "source": [
    "#right angled triangle\n",
    "n = int(input(\"enter number of rows:\"))\n",
    "for i in range(n):\n",
    "    for j in range(i,n):\n",
    "        print(\" \",end = \" \")\n",
    "        \n",
    "    for j in range(i+1):\n",
    "        print(\"*\",end = \" \")\n",
    "        \n",
    "        \n",
    "    print(\"\\n\")"
   ]
  },
  {
   "cell_type": "code",
   "execution_count": 4,
   "id": "f4f92f4f",
   "metadata": {},
   "outputs": [
    {
     "name": "stdout",
     "output_type": "stream",
     "text": [
      "enter number of rows:6\n",
      "            * \n",
      "          * * * \n",
      "        * * * * * \n",
      "      * * * * * * * \n",
      "    * * * * * * * * * \n",
      "  * * * * * * * * * * * \n"
     ]
    }
   ],
   "source": [
    "#hill pattern\n",
    "n = int(input(\"enter number of rows:\"))\n",
    "for i in range(n):\n",
    "    for j in range(i,n):\n",
    "        print(\" \",end = \" \")\n",
    "        \n",
    "    for j in range(i):\n",
    "        print(\"*\",end = \" \")\n",
    "        \n",
    "    for j in range(i+1):\n",
    "        print(\"*\", end = \" \")\n",
    "        \n",
    "        \n",
    "    print()\n",
    "        \n"
   ]
  },
  {
   "cell_type": "code",
   "execution_count": 5,
   "id": "79f90248",
   "metadata": {},
   "outputs": [
    {
     "name": "stdout",
     "output_type": "stream",
     "text": [
      "enter number of rows:6\n",
      "  * * * * * * * * * * * \n",
      "\n",
      "    * * * * * * * * * \n",
      "\n",
      "      * * * * * * * \n",
      "\n",
      "        * * * * * \n",
      "\n",
      "          * * * \n",
      "\n",
      "            * \n",
      "\n"
     ]
    }
   ],
   "source": [
    "#reverse hill\n",
    "n = int(input(\"enter number of rows:\"))\n",
    "for i in range(n):\n",
    "    for j in range(i+1):\n",
    "        print(\" \",end = \" \")\n",
    "        \n",
    "    for j in range(i,n-1):\n",
    "        print(\"*\",end = \" \")\n",
    "        \n",
    "    for j in range(i,n):\n",
    "        print(\"*\",end = \" \")\n",
    "        \n",
    "        \n",
    "    print(\"\\n\")"
   ]
  },
  {
   "cell_type": "code",
   "execution_count": 7,
   "id": "b4e5e88e",
   "metadata": {},
   "outputs": [
    {
     "name": "stdout",
     "output_type": "stream",
     "text": [
      "enter number of rows:6\n",
      "            * \n",
      "\n",
      "          * * * \n",
      "\n",
      "        * * * * * \n",
      "\n",
      "      * * * * * * * \n",
      "\n",
      "    * * * * * * * * * \n",
      "\n",
      "  * * * * * * * * * * * \n",
      "\n",
      "    * * * * * * * * * \n",
      "\n",
      "      * * * * * * * \n",
      "\n",
      "        * * * * * \n",
      "\n",
      "          * * * \n",
      "\n",
      "            * \n",
      "\n"
     ]
    }
   ],
   "source": [
    "#diamond pattern\n",
    "n = int(input(\"enter number of rows:\"))\n",
    "for i in range(n-1):\n",
    "    for j in range(i,n):\n",
    "        print(\" \",end = \" \")\n",
    "        \n",
    "    for j in range(i):\n",
    "        print(\"*\",end = \" \")\n",
    "        \n",
    "    for j in range(i+1):\n",
    "        print(\"*\", end = \" \")\n",
    "        \n",
    "        \n",
    "    print(\"\\n\")\n",
    "    \n",
    "for i in range(n):\n",
    "    for j in range(i+1):\n",
    "        print(\" \",end = \" \")\n",
    "        \n",
    "    for j in range(i,n-1):\n",
    "        print(\"*\",end = \" \")\n",
    "        \n",
    "    for j in range(i,n):\n",
    "        print(\"*\",end = \" \")\n",
    "        \n",
    "        \n",
    "    print(\"\\n\")"
   ]
  },
  {
   "cell_type": "code",
   "execution_count": null,
   "id": "ba574112",
   "metadata": {},
   "outputs": [],
   "source": []
  }
 ],
 "metadata": {
  "kernelspec": {
   "display_name": "Python 3 (ipykernel)",
   "language": "python",
   "name": "python3"
  },
  "language_info": {
   "codemirror_mode": {
    "name": "ipython",
    "version": 3
   },
   "file_extension": ".py",
   "mimetype": "text/x-python",
   "name": "python",
   "nbconvert_exporter": "python",
   "pygments_lexer": "ipython3",
   "version": "3.11.5"
  }
 },
 "nbformat": 4,
 "nbformat_minor": 5
}
