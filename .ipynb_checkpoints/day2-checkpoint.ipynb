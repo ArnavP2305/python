{
 "cells": [
  {
   "cell_type": "code",
   "execution_count": 1,
   "id": "032d66ca",
   "metadata": {},
   "outputs": [
    {
     "name": "stdout",
     "output_type": "stream",
     "text": [
      "innogee\n"
     ]
    }
   ],
   "source": [
    "a = \"innogeeks\"\n",
    "print(a[0:-2])\n"
   ]
  },
  {
   "cell_type": "code",
   "execution_count": 2,
   "id": "732a3eeb",
   "metadata": {},
   "outputs": [
    {
     "name": "stdout",
     "output_type": "stream",
     "text": [
      "skeegonni\n"
     ]
    }
   ],
   "source": [
    "a = \"innogeeks\"\n",
    "print(a[::-1])"
   ]
  },
  {
   "cell_type": "code",
   "execution_count": 1,
   "id": "f70298a6",
   "metadata": {},
   "outputs": [
    {
     "name": "stdout",
     "output_type": "stream",
     "text": [
      "a shetty\n"
     ]
    }
   ],
   "source": [
    "x = \"arun\"\n",
    "y = \"shetty\"\n",
    "z = x[0] +\" \" + y[:]\n",
    "print(z)\n"
   ]
  },
  {
   "cell_type": "code",
   "execution_count": 4,
   "id": "a04810d4",
   "metadata": {},
   "outputs": [
    {
     "name": "stdout",
     "output_type": "stream",
     "text": [
      "enter your name:ARNAV\n",
      "my name is ARNAV\n"
     ]
    }
   ],
   "source": [
    "a = input(\"enter your name:\")\n",
    "print(\"my name is \"+a)"
   ]
  },
  {
   "cell_type": "code",
   "execution_count": 5,
   "id": "8d706ff6",
   "metadata": {},
   "outputs": [
    {
     "name": "stdout",
     "output_type": "stream",
     "text": [
      "enter your age:18\n"
     ]
    },
    {
     "ename": "TypeError",
     "evalue": "can only concatenate str (not \"int\") to str",
     "output_type": "error",
     "traceback": [
      "\u001b[1;31m---------------------------------------------------------------------------\u001b[0m",
      "\u001b[1;31mTypeError\u001b[0m                                 Traceback (most recent call last)",
      "Cell \u001b[1;32mIn[5], line 2\u001b[0m\n\u001b[0;32m      1\u001b[0m b \u001b[38;5;241m=\u001b[39m \u001b[38;5;28mint\u001b[39m(\u001b[38;5;28minput\u001b[39m(\u001b[38;5;124m\"\u001b[39m\u001b[38;5;124menter your age:\u001b[39m\u001b[38;5;124m\"\u001b[39m))\n\u001b[1;32m----> 2\u001b[0m \u001b[38;5;28mprint\u001b[39m(a \u001b[38;5;241m+\u001b[39m \u001b[38;5;124m\"\u001b[39m\u001b[38;5;124mis\u001b[39m\u001b[38;5;124m\"\u001b[39m\u001b[38;5;241m+\u001b[39mb\u001b[38;5;241m+\u001b[39m\u001b[38;5;124m\"\u001b[39m\u001b[38;5;124myears old\u001b[39m\u001b[38;5;124m\"\u001b[39m)\n",
      "\u001b[1;31mTypeError\u001b[0m: can only concatenate str (not \"int\") to str"
     ]
    }
   ],
   "source": [
    "b = int(input(\"enter your age:\"))\n",
    "print(a + \"is\"+b+\"years old\")"
   ]
  },
  {
   "cell_type": "code",
   "execution_count": 7,
   "id": "c0867f15",
   "metadata": {},
   "outputs": [
    {
     "name": "stdout",
     "output_type": "stream",
     "text": [
      "ARNAV is 18 years old\n"
     ]
    }
   ],
   "source": [
    "print(f\"{a} is {b} years old\")"
   ]
  },
  {
   "cell_type": "code",
   "execution_count": 10,
   "id": "1d960029",
   "metadata": {},
   "outputs": [
    {
     "name": "stdout",
     "output_type": "stream",
     "text": [
      "A. Parmar is 18 years old\n"
     ]
    }
   ],
   "source": [
    "a = \"Arnav Parmar\"\n",
    "f,l = a.split()\n",
    "print(f\"{f[0]+'. '+l} is {b} years old\")"
   ]
  },
  {
   "cell_type": "code",
   "execution_count": 13,
   "id": "75c418dd",
   "metadata": {},
   "outputs": [
    {
     "name": "stdout",
     "output_type": "stream",
     "text": [
      "Arnav Parmar\n",
      "Arnav Parmar\n",
      "arnav parmar\n",
      "ARNAV PARMAR\n"
     ]
    }
   ],
   "source": [
    "t = print(a.title())\n",
    "b = print(a.strip())\n",
    "c = print(a.lower())\n",
    "d = print(a.upper())\n",
    "\n"
   ]
  },
  {
   "cell_type": "code",
   "execution_count": 14,
   "id": "55aa3366",
   "metadata": {},
   "outputs": [
    {
     "name": "stdout",
     "output_type": "stream",
     "text": [
      "12\n"
     ]
    }
   ],
   "source": [
    "print(len(a))"
   ]
  },
  {
   "cell_type": "code",
   "execution_count": 21,
   "id": "10016e12",
   "metadata": {},
   "outputs": [
    {
     "name": "stdout",
     "output_type": "stream",
     "text": [
      "enter number:8\n",
      "even number\n"
     ]
    }
   ],
   "source": [
    "num = int(input(\"enter number:\"))\n",
    "if num%2==0:\n",
    "    print(\"even number\")\n",
    "else:\n",
    "    print(\"odd number\")\n",
    "    "
   ]
  },
  {
   "cell_type": "code",
   "execution_count": 26,
   "id": "8e89efb7",
   "metadata": {},
   "outputs": [
    {
     "name": "stdout",
     "output_type": "stream",
     "text": [
      "enter number:6\n",
      "not prime\n"
     ]
    }
   ],
   "source": [
    "num = int(input(\"enter number:\"))\n",
    "for i in range(2,num):\n",
    "    if num%i == 0:\n",
    "        print(\"not prime\")\n",
    "        break\n",
    "        \n",
    "        \n",
    "else:\n",
    "    print(\"prime\")"
   ]
  },
  {
   "cell_type": "code",
   "execution_count": 27,
   "id": "6c1e349f",
   "metadata": {},
   "outputs": [
    {
     "name": "stdout",
     "output_type": "stream",
     "text": [
      "print lowest range:1\n",
      "print upper range:100\n",
      "2\n",
      "3\n",
      "5\n",
      "7\n",
      "11\n",
      "13\n",
      "17\n",
      "19\n",
      "23\n",
      "29\n",
      "31\n",
      "37\n",
      "41\n",
      "43\n",
      "47\n",
      "53\n",
      "59\n",
      "61\n",
      "67\n",
      "71\n",
      "73\n",
      "79\n",
      "83\n",
      "89\n",
      "97\n"
     ]
    }
   ],
   "source": [
    "#prime number between range\n",
    "l = int(input(\"print lowest range:\"))\n",
    "u = int(input(\"print upper range:\"))\n",
    "\n",
    "for number in range(l,u+1):\n",
    "    if number>1:\n",
    "        for i in range(2,number):\n",
    "            if number%i==0:\n",
    "                break\n",
    "                \n",
    "        else:\n",
    "            print(number)"
   ]
  },
  {
   "cell_type": "code",
   "execution_count": 28,
   "id": "d19d28a7",
   "metadata": {},
   "outputs": [
    {
     "name": "stdout",
     "output_type": "stream",
     "text": [
      "enter first number:10\n",
      "enter second number:15\n",
      "enter third number:20\n",
      "20 is the greatest\n"
     ]
    }
   ],
   "source": [
    "num1 = int(input(\"enter first number:\"))\n",
    "num2 = int(input(\"enter second number:\"))\n",
    "num3 = int(input(\"enter third number:\"))\n",
    "if num1>num2 and num1>num3:\n",
    "    print(num1,\"is the greatest\")\n",
    "elif num2>num1 and num2>num3:\n",
    "    print(num2,\"is the greatest\")\n",
    "else:\n",
    "    print(num3,\"is the greatest\")"
   ]
  },
  {
   "cell_type": "code",
   "execution_count": 3,
   "id": "922a4ec8",
   "metadata": {},
   "outputs": [
    {
     "name": "stdout",
     "output_type": "stream",
     "text": [
      "enter english marks:90\n",
      "enter hindi marks:90\n",
      "enter maths marks:90\n",
      "A\n"
     ]
    }
   ],
   "source": [
    "#A-100-90   B- 80-90   C - 70-80  \n",
    "eng = int(input(\"enter english marks:\"))\n",
    "hindi = int(input(\"enter hindi marks:\"))\n",
    "maths = int(input(\"enter maths marks:\"))\n",
    "totalmarks = eng + hindi + maths\n",
    "percentage = (totalmarks *100) / 300\n",
    "if 90<=percentage <=100:\n",
    "    print(\"A\")\n",
    "elif 80<=percentage<=90:\n",
    "    print(\"B\")\n",
    "else:\n",
    "    print(\"C\")"
   ]
  },
  {
   "cell_type": "code",
   "execution_count": null,
   "id": "6d2239a3",
   "metadata": {},
   "outputs": [],
   "source": []
  }
 ],
 "metadata": {
  "kernelspec": {
   "display_name": "Python 3 (ipykernel)",
   "language": "python",
   "name": "python3"
  },
  "language_info": {
   "codemirror_mode": {
    "name": "ipython",
    "version": 3
   },
   "file_extension": ".py",
   "mimetype": "text/x-python",
   "name": "python",
   "nbconvert_exporter": "python",
   "pygments_lexer": "ipython3",
   "version": "3.11.5"
  }
 },
 "nbformat": 4,
 "nbformat_minor": 5
}
